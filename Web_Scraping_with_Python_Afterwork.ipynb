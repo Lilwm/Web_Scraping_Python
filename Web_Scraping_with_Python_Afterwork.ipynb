{
  "nbformat": 4,
  "nbformat_minor": 0,
  "metadata": {
    "colab": {
      "provenance": [],
      "collapsed_sections": [
        "Tcso2rJCNAGq",
        "7ePXABAihaKn"
      ],
      "include_colab_link": true
    },
    "kernelspec": {
      "name": "python3",
      "display_name": "Python 3"
    }
  },
  "cells": [
    {
      "cell_type": "markdown",
      "metadata": {
        "id": "view-in-github",
        "colab_type": "text"
      },
      "source": [
        "<a href=\"https://colab.research.google.com/github/Lilwm/Web_Scraping_Python/blob/main/Web_Scraping_with_Python_Afterwork.ipynb\" target=\"_parent\"><img src=\"https://colab.research.google.com/assets/colab-badge.svg\" alt=\"Open In Colab\"/></a>"
      ]
    },
    {
      "cell_type": "markdown",
      "metadata": {
        "id": "7i5A-UY4Yruf"
      },
      "source": [
        "<font color='#2F4F4F'>To use this notebook on Colaboratory, you will need to make a copy of it. Go to File > Save a Copy in Drive. You can then use the new copy that will appear in the new tab.</font>\n"
      ]
    },
    {
      "cell_type": "markdown",
      "metadata": {
        "id": "0rOdcI2Nzhky"
      },
      "source": [
        "# <font color='#2F4F4F'>AfterWork Data Science: Web Scraping with Python</font>"
      ]
    },
    {
      "cell_type": "markdown",
      "source": [
        "### <strong><em>Problem Statement</em></strong>\n",
        "The problem is that there are many job listings which can not get visits for the target job seekers. While working in a team, your task as a data scientist for this project is to scrape for job titles and links and then put them in a single table that can be used by your team members to further build a job aggregator.\n",
        "<br>\n",
        "You will be required to scrape for data from the following three technology webpages:\n",
        "\n",
        "*   PigiaMe: https://www.pigiame.co.ke/it-software-jobs\n",
        "*   MyJobMag: https://www.myjobmag.co.ke/jobs-by-field/information-technology\n",
        "*   KenyaJob:\n",
        "https://www.kenyajob.com/job-vacancies-search-kenya?f%5B0%5D=im_field_offre_secteur%3A13m"
      ],
      "metadata": {
        "id": "0nzSt1r_WNDY"
      }
    },
    {
      "cell_type": "markdown",
      "metadata": {
        "id": "Tcso2rJCNAGq"
      },
      "source": [
        "## <font color='#2F4F4F'>Prerequisites</font>"
      ]
    },
    {
      "cell_type": "code",
      "metadata": {
        "id": "QSHljMZTNCRI"
      },
      "source": [
        "# We first import the required libraries\n",
        "# ---\n",
        "#\n",
        "import pandas as pd             # library for data manupation\n",
        "import requests                 # library for fetching a web page \n",
        "from bs4 import BeautifulSoup   # library for extrating contents from a webpage "
      ],
      "execution_count": null,
      "outputs": []
    },
    {
      "cell_type": "markdown",
      "metadata": {
        "id": "CRmt1rRHgZRG"
      },
      "source": [
        "## <font color='#2F4F4F'>Step 1: Obtaining our Data</font>"
      ]
    },
    {
      "cell_type": "code",
      "metadata": {
        "id": "cM5TKD-P1h7Z",
        "colab": {
          "base_uri": "https://localhost:8080/"
        },
        "outputId": "997eaaff-f26c-4aee-fa75-32caa072b1b9"
      },
      "source": [
        "# PigiaMe: https://www.pigiame.co.ke/it-software-jobs\n",
        "# ---\n",
        "#\n",
        "pigia_me = requests.get('https://www.pigiame.co.ke/it-software-jobs')\n",
        "pigia_me"
      ],
      "execution_count": null,
      "outputs": [
        {
          "output_type": "execute_result",
          "data": {
            "text/plain": [
              "<Response [200]>"
            ]
          },
          "metadata": {},
          "execution_count": 4
        }
      ]
    },
    {
      "cell_type": "code",
      "metadata": {
        "id": "OfUvfxrD1nQC",
        "colab": {
          "base_uri": "https://localhost:8080/"
        },
        "outputId": "6b9fa54d-a89d-4fe7-8a6c-8c26639021a3"
      },
      "source": [
        "# MyJobMag: https://www.myjobmag.co.ke/jobs-by-field/information-technology\n",
        "# ---\n",
        "#\n",
        "my_job_mag = requests.get('https://www.myjobmag.co.ke/jobs-by-field/information-technology')\n",
        "my_job_mag"
      ],
      "execution_count": null,
      "outputs": [
        {
          "output_type": "execute_result",
          "data": {
            "text/plain": [
              "<Response [200]>"
            ]
          },
          "metadata": {},
          "execution_count": 5
        }
      ]
    },
    {
      "cell_type": "code",
      "metadata": {
        "id": "psWrYhRUQDJC",
        "colab": {
          "base_uri": "https://localhost:8080/"
        },
        "outputId": "868e4d98-e8e5-476a-c57b-960dbfb12356"
      },
      "source": [
        "# KenyanJob: https://www.kenyajob.com/job-vacancies-search-kenya?f%5B0%5D=im_field_offre_secteur%3A133\n",
        "# ---\n",
        "#\n",
        "kenyan_job = requests.get('https://www.kenyajob.com/job-vacancies-search-kenya?f%5B0%5D=im_field_offre_secteur%3A133#')\n",
        "kenyan_job\n"
      ],
      "execution_count": 39,
      "outputs": [
        {
          "output_type": "execute_result",
          "data": {
            "text/plain": [
              "<Response [200]>"
            ]
          },
          "metadata": {},
          "execution_count": 39
        }
      ]
    },
    {
      "cell_type": "markdown",
      "metadata": {
        "id": "h7iRb8U8hHNw"
      },
      "source": [
        "## <font color='#2F4F4F'>Step 2: Parsing</font>"
      ]
    },
    {
      "cell_type": "code",
      "metadata": {
        "id": "AXWSK1kD2oeN"
      },
      "source": [
        "# Parsing our document: pigia_me\n",
        "# ---\n",
        "# \n",
        "soup_pigia = BeautifulSoup(pigia_me.text, 'html.parser')"
      ],
      "execution_count": null,
      "outputs": []
    },
    {
      "cell_type": "code",
      "metadata": {
        "id": "lrH9mgR82pzg"
      },
      "source": [
        "# Parsing our document: my_job_mag\n",
        "# ---\n",
        "#  \n",
        "soup_jobmag = BeautifulSoup(my_job_mag.text, 'html.parser')"
      ],
      "execution_count": null,
      "outputs": []
    },
    {
      "cell_type": "code",
      "metadata": {
        "id": "O0x-Wz03QP5O"
      },
      "source": [
        "# Parsing our document: kenyan_job\n",
        "# ---\n",
        "# \n",
        "soup_kenyan_job = BeautifulSoup(kenyan_job.text, \"html.parser\")"
      ],
      "execution_count": 40,
      "outputs": []
    },
    {
      "cell_type": "markdown",
      "metadata": {
        "id": "_OxuOAIXhPl5"
      },
      "source": [
        "## <font color='#2F4F4F'>Step 3: Extracting Required Elements</font>"
      ]
    },
    {
      "cell_type": "code",
      "metadata": {
        "id": "e2p147_LICKn",
        "colab": {
          "base_uri": "https://localhost:8080/"
        },
        "outputId": "566fc3a0-d398-4419-deae-bca191cf7847"
      },
      "source": [
        "# 1. Extracting job titles and links: pigia me\n",
        "# ---\n",
        "# \n",
        "titles_pigia = soup_pigia.find_all('div', {'class':'listing-card__header__title'})\n",
        "get_links_pigia =soup_pigia.find_all('a', {'class':\"listing-card__inner\"})\n",
        "\n",
        "jobs_pigia = []\n",
        "links_pigia = []\n",
        "\n",
        "for item in titles_pigia:\n",
        "  text = item.get_text().replace('\\n', '').split('-')\n",
        "  jobs_pigia.append(text[0])\n",
        "\n",
        "for link in get_links_pigia:\n",
        "  url_link = link.get('href')\n",
        "  links_pigia.append(url_link)\n",
        "\n",
        "#check the length of the 2 lists to confirm each job title has a link\n",
        "print(len( jobs_pigia))\n",
        "print(len(links_pigia))"
      ],
      "execution_count": null,
      "outputs": [
        {
          "output_type": "stream",
          "name": "stdout",
          "text": [
            "10\n",
            "10\n"
          ]
        }
      ]
    },
    {
      "cell_type": "code",
      "source": [
        "\n",
        "# ---\n",
        "# \n",
        "# find the tag where the jobs are actually listed in the page\n",
        "my_job_mag_jobs = soup_jobmag.find_all('li', class_ = \"job-list-li\")\n",
        "\n",
        "# create two lists to store the results of our job titles and link\n",
        "jobs_jobmag = []\n",
        "links_jobmag = []\n",
        "\n",
        "# iterate through each job in the found jobs\n",
        "for job in my_job_mag_jobs:\n",
        "    # check to confirm that the h2 tag in each job does not return a None type\n",
        "    if job.h2:\n",
        "      # find the job title text in the h2 tag and strip for any whitespaces\n",
        "      title = job.h2.text.strip()\n",
        "      # find the link text in the a tag inside h2 tag, concatinate this to the website url to get the complete link\n",
        "      link = link = 'https://www.myjobmag.co.ke' + job.h2.a['href']\n",
        "      \n",
        "      # append results to the respective lists\n",
        "      jobs_jobmag.append(title)\n",
        "      links_jobmag.append(link)\n",
        "\n",
        "#check the length of the 2 lists to confirm each job title has a link\n",
        "print(len(jobs_jobmag))\n",
        "print(len(links_jobmag))"
      ],
      "metadata": {
        "colab": {
          "base_uri": "https://localhost:8080/"
        },
        "id": "0gl7N1_HyWyc",
        "outputId": "f59a17e9-d4d4-4623-e055-bc0e0452f1a7"
      },
      "execution_count": null,
      "outputs": [
        {
          "output_type": "stream",
          "name": "stdout",
          "text": [
            "18\n",
            "18\n"
          ]
        }
      ]
    },
    {
      "cell_type": "code",
      "source": [
        "# 3. Extracting job titles: kenya_job\n",
        "# ---\n",
        "#\n",
        "\n",
        "kj_url = 'https://www.kenyajob.com'\n",
        "# create two lists to store the job titles and links\n",
        "kenyan_job_link_content = []\n",
        "kenyan_job_link_url = []\n",
        "# get tag where the jobs are listed\n",
        "kenyan_job_results = soup_kenyan_job.find_all('div', {'class': \"col-lg-5 col-md-5 col-sm-5 col-xs-12 job-title\"})\n",
        "\n",
        "for t in kenyan_job_results:\n",
        "  # append results to the respective lists\n",
        "  kenyan_job_link_content.append(t.a.get_text()) \n",
        "  kenyan_job_link_url.append(kj_url + t.a.get('href'))\n",
        "\n",
        "print(len(kenyan_job_link_url))\n",
        "print(len(kenyan_job_link_url))"
      ],
      "metadata": {
        "colab": {
          "base_uri": "https://localhost:8080/"
        },
        "id": "nGgeJOg0iOI7",
        "outputId": "eddb573e-522f-411a-fc03-7692738c2277"
      },
      "execution_count": 45,
      "outputs": [
        {
          "output_type": "stream",
          "name": "stdout",
          "text": [
            "25\n",
            "25\n"
          ]
        }
      ]
    },
    {
      "cell_type": "markdown",
      "metadata": {
        "id": "7ePXABAihaKn"
      },
      "source": [
        "## <font color='#2F4F4F'>Step 4: Saving our Data</font>"
      ]
    },
    {
      "cell_type": "code",
      "metadata": {
        "id": "fsG9pQXk5f8y",
        "colab": {
          "base_uri": "https://localhost:8080/",
          "height": 362
        },
        "outputId": "d3788148-9e7d-4986-fadc-fa2bfa37f4f9"
      },
      "source": [
        "# Saving the scraped contents in a dataframe and preview our data\n",
        "# ---\n",
        "#\n",
        "# Saving the scraped contents in a dataframe and preview our data\n",
        "# ---\n",
        "#\n",
        "# combine the lists from the three jobs into one list\n",
        "job_titles = jobs_pigia  + jobs_jobmag + kenyan_job_link_content\n",
        "url_links =  links_pigia + links_jobmag + kenyan_job_link_url\n",
        "\n",
        "# create a pandas DataFrame using our combined lists\n",
        "df = pd.DataFrame({\"Job Title\": job_titles, \"link_url\": url_links})\n",
        "\n",
        "# get 10 random job from the DataFrame\n",
        "df.sample(10)"
      ],
      "execution_count": 49,
      "outputs": [
        {
          "output_type": "execute_result",
          "data": {
            "text/plain": [
              "                                       Job Title  \\\n",
              "3                     Frontend Developer Reframe   \n",
              "39              Cloud System Administrator (M/F)   \n",
              "19  Full Stack Developer at SunCulture Kenya Ltd   \n",
              "13       Mid Machine Learning Engineer at Azenia   \n",
              "31       Information Technology Sales Specialist   \n",
              "37                          Cloud Engineer (M/F)   \n",
              "5                     Assistant IT Administrator   \n",
              "10               Product Engineer at Access Afya   \n",
              "49                          JAVA Developer (M/F)   \n",
              "48                           IOS Developer (M/F)   \n",
              "\n",
              "                                             link_url  \n",
              "3   https://www.pigiame.co.ke/listings/frontend-de...  \n",
              "39  https://www.kenyajob.com/job-vacancies-kenya/c...  \n",
              "19  https://www.myjobmag.co.ke/job/full-stack-deve...  \n",
              "13  https://www.myjobmag.co.ke/job/mid-machine-lea...  \n",
              "31  https://www.kenyajob.com/job-vacancies-kenya/i...  \n",
              "37  https://www.kenyajob.com/job-vacancies-kenya/c...  \n",
              "5   https://www.pigiame.co.ke/listings/assistant-i...  \n",
              "10  https://www.myjobmag.co.ke/job/product-enginee...  \n",
              "49  https://www.kenyajob.com/job-vacancies-kenya/j...  \n",
              "48  https://www.kenyajob.com/job-vacancies-kenya/i...  "
            ],
            "text/html": [
              "\n",
              "  <div id=\"df-7e40ce90-7906-4d9b-a3f2-5e6dd0a30be0\">\n",
              "    <div class=\"colab-df-container\">\n",
              "      <div>\n",
              "<style scoped>\n",
              "    .dataframe tbody tr th:only-of-type {\n",
              "        vertical-align: middle;\n",
              "    }\n",
              "\n",
              "    .dataframe tbody tr th {\n",
              "        vertical-align: top;\n",
              "    }\n",
              "\n",
              "    .dataframe thead th {\n",
              "        text-align: right;\n",
              "    }\n",
              "</style>\n",
              "<table border=\"1\" class=\"dataframe\">\n",
              "  <thead>\n",
              "    <tr style=\"text-align: right;\">\n",
              "      <th></th>\n",
              "      <th>Job Title</th>\n",
              "      <th>link_url</th>\n",
              "    </tr>\n",
              "  </thead>\n",
              "  <tbody>\n",
              "    <tr>\n",
              "      <th>3</th>\n",
              "      <td>Frontend Developer Reframe</td>\n",
              "      <td>https://www.pigiame.co.ke/listings/frontend-de...</td>\n",
              "    </tr>\n",
              "    <tr>\n",
              "      <th>39</th>\n",
              "      <td>Cloud System Administrator (M/F)</td>\n",
              "      <td>https://www.kenyajob.com/job-vacancies-kenya/c...</td>\n",
              "    </tr>\n",
              "    <tr>\n",
              "      <th>19</th>\n",
              "      <td>Full Stack Developer at SunCulture Kenya Ltd</td>\n",
              "      <td>https://www.myjobmag.co.ke/job/full-stack-deve...</td>\n",
              "    </tr>\n",
              "    <tr>\n",
              "      <th>13</th>\n",
              "      <td>Mid Machine Learning Engineer at Azenia</td>\n",
              "      <td>https://www.myjobmag.co.ke/job/mid-machine-lea...</td>\n",
              "    </tr>\n",
              "    <tr>\n",
              "      <th>31</th>\n",
              "      <td>Information Technology Sales Specialist</td>\n",
              "      <td>https://www.kenyajob.com/job-vacancies-kenya/i...</td>\n",
              "    </tr>\n",
              "    <tr>\n",
              "      <th>37</th>\n",
              "      <td>Cloud Engineer (M/F)</td>\n",
              "      <td>https://www.kenyajob.com/job-vacancies-kenya/c...</td>\n",
              "    </tr>\n",
              "    <tr>\n",
              "      <th>5</th>\n",
              "      <td>Assistant IT Administrator</td>\n",
              "      <td>https://www.pigiame.co.ke/listings/assistant-i...</td>\n",
              "    </tr>\n",
              "    <tr>\n",
              "      <th>10</th>\n",
              "      <td>Product Engineer at Access Afya</td>\n",
              "      <td>https://www.myjobmag.co.ke/job/product-enginee...</td>\n",
              "    </tr>\n",
              "    <tr>\n",
              "      <th>49</th>\n",
              "      <td>JAVA Developer (M/F)</td>\n",
              "      <td>https://www.kenyajob.com/job-vacancies-kenya/j...</td>\n",
              "    </tr>\n",
              "    <tr>\n",
              "      <th>48</th>\n",
              "      <td>IOS Developer (M/F)</td>\n",
              "      <td>https://www.kenyajob.com/job-vacancies-kenya/i...</td>\n",
              "    </tr>\n",
              "  </tbody>\n",
              "</table>\n",
              "</div>\n",
              "      <button class=\"colab-df-convert\" onclick=\"convertToInteractive('df-7e40ce90-7906-4d9b-a3f2-5e6dd0a30be0')\"\n",
              "              title=\"Convert this dataframe to an interactive table.\"\n",
              "              style=\"display:none;\">\n",
              "        \n",
              "  <svg xmlns=\"http://www.w3.org/2000/svg\" height=\"24px\"viewBox=\"0 0 24 24\"\n",
              "       width=\"24px\">\n",
              "    <path d=\"M0 0h24v24H0V0z\" fill=\"none\"/>\n",
              "    <path d=\"M18.56 5.44l.94 2.06.94-2.06 2.06-.94-2.06-.94-.94-2.06-.94 2.06-2.06.94zm-11 1L8.5 8.5l.94-2.06 2.06-.94-2.06-.94L8.5 2.5l-.94 2.06-2.06.94zm10 10l.94 2.06.94-2.06 2.06-.94-2.06-.94-.94-2.06-.94 2.06-2.06.94z\"/><path d=\"M17.41 7.96l-1.37-1.37c-.4-.4-.92-.59-1.43-.59-.52 0-1.04.2-1.43.59L10.3 9.45l-7.72 7.72c-.78.78-.78 2.05 0 2.83L4 21.41c.39.39.9.59 1.41.59.51 0 1.02-.2 1.41-.59l7.78-7.78 2.81-2.81c.8-.78.8-2.07 0-2.86zM5.41 20L4 18.59l7.72-7.72 1.47 1.35L5.41 20z\"/>\n",
              "  </svg>\n",
              "      </button>\n",
              "      \n",
              "  <style>\n",
              "    .colab-df-container {\n",
              "      display:flex;\n",
              "      flex-wrap:wrap;\n",
              "      gap: 12px;\n",
              "    }\n",
              "\n",
              "    .colab-df-convert {\n",
              "      background-color: #E8F0FE;\n",
              "      border: none;\n",
              "      border-radius: 50%;\n",
              "      cursor: pointer;\n",
              "      display: none;\n",
              "      fill: #1967D2;\n",
              "      height: 32px;\n",
              "      padding: 0 0 0 0;\n",
              "      width: 32px;\n",
              "    }\n",
              "\n",
              "    .colab-df-convert:hover {\n",
              "      background-color: #E2EBFA;\n",
              "      box-shadow: 0px 1px 2px rgba(60, 64, 67, 0.3), 0px 1px 3px 1px rgba(60, 64, 67, 0.15);\n",
              "      fill: #174EA6;\n",
              "    }\n",
              "\n",
              "    [theme=dark] .colab-df-convert {\n",
              "      background-color: #3B4455;\n",
              "      fill: #D2E3FC;\n",
              "    }\n",
              "\n",
              "    [theme=dark] .colab-df-convert:hover {\n",
              "      background-color: #434B5C;\n",
              "      box-shadow: 0px 1px 3px 1px rgba(0, 0, 0, 0.15);\n",
              "      filter: drop-shadow(0px 1px 2px rgba(0, 0, 0, 0.3));\n",
              "      fill: #FFFFFF;\n",
              "    }\n",
              "  </style>\n",
              "\n",
              "      <script>\n",
              "        const buttonEl =\n",
              "          document.querySelector('#df-7e40ce90-7906-4d9b-a3f2-5e6dd0a30be0 button.colab-df-convert');\n",
              "        buttonEl.style.display =\n",
              "          google.colab.kernel.accessAllowed ? 'block' : 'none';\n",
              "\n",
              "        async function convertToInteractive(key) {\n",
              "          const element = document.querySelector('#df-7e40ce90-7906-4d9b-a3f2-5e6dd0a30be0');\n",
              "          const dataTable =\n",
              "            await google.colab.kernel.invokeFunction('convertToInteractive',\n",
              "                                                     [key], {});\n",
              "          if (!dataTable) return;\n",
              "\n",
              "          const docLinkHtml = 'Like what you see? Visit the ' +\n",
              "            '<a target=\"_blank\" href=https://colab.research.google.com/notebooks/data_table.ipynb>data table notebook</a>'\n",
              "            + ' to learn more about interactive tables.';\n",
              "          element.innerHTML = '';\n",
              "          dataTable['output_type'] = 'display_data';\n",
              "          await google.colab.output.renderOutput(dataTable, element);\n",
              "          const docLink = document.createElement('div');\n",
              "          docLink.innerHTML = docLinkHtml;\n",
              "          element.appendChild(docLink);\n",
              "        }\n",
              "      </script>\n",
              "    </div>\n",
              "  </div>\n",
              "  "
            ]
          },
          "metadata": {},
          "execution_count": 49
        }
      ]
    }
  ]
}